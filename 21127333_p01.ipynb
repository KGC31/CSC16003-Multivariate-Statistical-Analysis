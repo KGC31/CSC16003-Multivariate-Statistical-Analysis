{
 "cells": [
  {
   "cell_type": "markdown",
   "metadata": {},
   "source": [
    "# Lab01 - 21127333 - Nguyễn Việt Kim"
   ]
  },
  {
   "cell_type": "markdown",
   "metadata": {},
   "source": [
    "# Self Assessment\n",
    "| Task      | Percentage |\n",
    "| --------  | ------- |\n",
    "| Mean      | 100    |\n",
    "| Median    | 100     |\n",
    "| Max       | 80   |\n",
    "| Min       | 80    |\n",
    "| Range      | 0    |\n",
    "| Variance    | 100    |\n",
    "| Standard Deviation    | 100    |\n",
    "| Covariance    | 100    |\n",
    "| Correlation    | 0    |"
   ]
  },
  {
   "cell_type": "markdown",
   "metadata": {},
   "source": [
    "# Import Numpy and other libraries"
   ]
  },
  {
   "cell_type": "code",
   "execution_count": 108,
   "metadata": {},
   "outputs": [
    {
     "name": "stdout",
     "output_type": "stream",
     "text": [
      "[[[8 1 0 6 7]\n",
      "  [6 7 5 7 7]\n",
      "  [5 2 5 7 0]\n",
      "  [9 7 8 6 9]]\n",
      "\n",
      " [[8 1 3 6 7]\n",
      "  [8 7 4 0 8]\n",
      "  [8 6 0 6 7]\n",
      "  [6 3 0 4 0]]\n",
      "\n",
      " [[3 6 5 5 1]\n",
      "  [5 3 7 3 7]\n",
      "  [6 6 6 6 8]\n",
      "  [9 9 1 1 4]]]\n",
      "[[[6 7 3 2 8]\n",
      "  [4 2 8 2 6]\n",
      "  [4 9 8 0 8]\n",
      "  [0 9 9 5 4]]\n",
      "\n",
      " [[0 4 6 4 2]\n",
      "  [3 9 2 6 2]\n",
      "  [5 4 9 2 5]\n",
      "  [4 4 2 5 6]]\n",
      "\n",
      " [[0 5 9 9 8]\n",
      "  [2 4 5 0 7]\n",
      "  [7 7 1 2 1]\n",
      "  [9 3 1 5 4]]]\n"
     ]
    }
   ],
   "source": [
    "import numpy as np\n",
    "\n",
    "# Given sample arr of vector X\n",
    "X = np.random.randint(0, 10, size=(3, 4, 5))\n",
    "Y = np.random.randint(0, 10, size=(3, 4, 5))\n",
    "print(X)\n",
    "print(Y)"
   ]
  },
  {
   "cell_type": "markdown",
   "metadata": {},
   "source": [
    "Consider the `X` vector of data with `n` samples. Each samples has `p` data. The `X` vector is shown as below:\n",
    "$$\n",
    "    X = \\begin{bmatrix}    \n",
    "            x_{11} & x_{12} & ... & x_{1p}\\\\\n",
    "            x_{21} & x_{22} & ... & x_{2p}\\\\\n",
    "            ... & ... & ... & ...\\\\\n",
    "            x_{j1} & x_{j2} & ... & x_{jp}\\\\\n",
    "            ... & ... & ... & ...\\\\\n",
    "            x_{n1} & x_{n2} & ... & x_{np}\n",
    "        \\end{bmatrix}\n",
    "$$"
   ]
  },
  {
   "cell_type": "markdown",
   "metadata": {},
   "source": [
    "# Mean of a data set"
   ]
  },
  {
   "cell_type": "markdown",
   "metadata": {},
   "source": [
    "The median of a data set is calculate by the following formula:\n",
    "$$\n",
    "   \\overline{x_{k}} = \\frac{1}{n} \\sum_{j=1}^nx_{jk}, k=1,2,...,p\n",
    "$$\n",
    "In the implementation of the median formula, the mean function take in the parameters of the data set and the axis of the function where the median is calculated.\n",
    "\n",
    "By default, the `axis` is set to `None`, which means that when the axis is not defined, the mean function flatten the array and calculate the mean of that array. If the axis is defined, the mean function calculate the mean by the axis and return the numpy array of the mean vectors.\n",
    "\n",
    "Pseudo code for the function:\n",
    "```\n",
    "BEGIN\n",
    "    IF axis = None:\n",
    "        arr = arr.flatten()\n",
    "        return sum(arr) / len(arr)\n",
    "    IF axis = 0:\n",
    "        total_sum = [0] * len(arr[0])\n",
    "        count = [0] * len(arr[0])\n",
    "        FOR EACH sub_array IN arr:\n",
    "            Mean of each sub_array\n",
    "        RETURN mean\n",
    "    ELSE IF axis >= 1:\n",
    "        FOR sub_arr in arr:\n",
    "            // Recursive for calculating each mean vector\n",
    "            mean.append(Mean(sub_arr, axis - 1))\n",
    "        RETURN mean\n",
    "    ELSE\n",
    "        Raise Error\n",
    "END\n",
    "```"
   ]
  },
  {
   "cell_type": "code",
   "execution_count": 2,
   "metadata": {},
   "outputs": [],
   "source": [
    "def Mean(arr, axis=None):\n",
    "    if axis == None:\n",
    "        flat_arr = arr.flatten()\n",
    "        return sum(flat_arr) / len(flat_arr)\n",
    "    if axis == 0:\n",
    "        # Calculate mean along axis 0 (columns)\n",
    "        total_sum = [0] * len(arr[0])\n",
    "        count = [0] * len(arr[0])\n",
    "        for sub_array in arr:\n",
    "            for i, value in enumerate(sub_array):\n",
    "                total_sum[i] += value\n",
    "                count[i] += 1\n",
    "        return np.array([sum_ / cnt for sum_, cnt in zip(total_sum, count)])\n",
    "    elif axis >= 1:\n",
    "        # Calculate mean along axis 1 (rows)\n",
    "        return np.array([Mean(sub_array, axis=axis - 1) for sub_array in arr])\n",
    "    else:\n",
    "        # Handle other axes\n",
    "        raise Exception(\"The axis is out of range\")\n"
   ]
  },
  {
   "cell_type": "code",
   "execution_count": 3,
   "metadata": {},
   "outputs": [
    {
     "name": "stdout",
     "output_type": "stream",
     "text": [
      "4.7\n",
      "4.7\n",
      "----------------------------------------------------------------\n",
      "[[3.         5.         6.66666667 5.33333333 6.        ]\n",
      " [1.33333333 3.         4.33333333 5.33333333 4.        ]\n",
      " [4.66666667 5.33333333 6.66666667 7.66666667 4.66666667]\n",
      " [5.66666667 4.33333333 4.66666667 1.66666667 4.66666667]]\n",
      "[[3.         5.         6.66666667 5.33333333 6.        ]\n",
      " [1.33333333 3.         4.33333333 5.33333333 4.        ]\n",
      " [4.66666667 5.33333333 6.66666667 7.66666667 4.66666667]\n",
      " [5.66666667 4.33333333 4.66666667 1.66666667 4.66666667]]\n",
      "----------------------------------------------------------------\n",
      "[[4.25 6.25 6.5  5.   3.5 ]\n",
      " [1.25 3.25 4.5  3.   5.75]\n",
      " [5.5  3.75 5.75 7.   5.25]]\n",
      "[[4.25 6.25 6.5  5.   3.5 ]\n",
      " [1.25 3.25 4.5  3.   5.75]\n",
      " [5.5  3.75 5.75 7.   5.25]]\n"
     ]
    }
   ],
   "source": [
    "print(np.mean(X))\n",
    "print(Mean(X))\n",
    "print(\"----------------------------------------------------------------\")\n",
    "\n",
    "print(np.mean(X, axis=0))\n",
    "print(Mean(X, axis=0))\n",
    "print(\"----------------------------------------------------------------\")\n",
    "\n",
    "print(np.mean(X, axis=1))\n",
    "print(Mean(X, axis=1))"
   ]
  },
  {
   "cell_type": "markdown",
   "metadata": {},
   "source": [
    "# Median of a data set"
   ]
  },
  {
   "cell_type": "markdown",
   "metadata": {},
   "source": [
    "The function checks if the input data is a NumPy array and convert the array to NumPy array. The function then compute the median of the vector by the following formula:\n",
    "$$  \n",
    "f(a,b) = \n",
    "     \\begin{cases}\n",
    "       m = \\text{sorted\\_arr}[\\frac{n}{2}] & \\text{if n is odd}\\\\\n",
    "       m = \\frac{\\text{sorted\\_arr}[\\frac{n}{2} - 1] + \\text{sorted\\_arr}[\\frac{n}{2}]}{2} & \\text{if n is even} \\\\\n",
    "     \\end{cases}\n",
    "$$\n",
    "Where `n` is the number of flattened array if the `axis` is `None`, or the number of vector along the `axis` otherwise.\n",
    "- If `axis` is `None`, the function computes the median of the flattened array by sorting the data and finding the middle value(s).\n",
    "- If `axis` is specified, the function computes the median along the specified axis by sorting the data along that axis and finding the middle value(s) for each slice along the axis.\n",
    "\n",
    "The function returns the computed median value(s) based on the specified axis or across all axes if `axis` is `None`.\n",
    "\n",
    "Pseudo code for the function:\n",
    "\n",
    "```\n",
    "BEGIN:\n",
    "    IF axis = None:\n",
    "        \n",
    "    IF axis == 0:\n",
    "        median_values = []\n",
    "        FOR i FROM 0 TO (length of the first row of arr - 1):\n",
    "            // Sort the array\n",
    "            column_values = sort([element at index i in each row for row in arr])\n",
    "            column_len = length of column_values\n",
    "            // Get the median value\n",
    "            IF column_len is even:\n",
    "                median_values.append((column_values[column_len // 2 - 1] + column_values[column_len // 2]) / 2)\n",
    "            ELSE:\n",
    "                median_values.append(column_values[column_len // 2])\n",
    "        RETURN an array of median_values\n",
    "    ELSE IF axis >= 1:\n",
    "        median_values = []\n",
    "        FOR EACH sub_array IN arr:\n",
    "            // Recursive to calculate the median along axis\n",
    "            median_values.append(Median(sub_array, axis=axis - 1)) \n",
    "        RETURN median_values\n",
    "    ELSE:\n",
    "        # Handle other axes\n",
    "        RAISE ValueError(\"The axis is out of range\")\n",
    "END\n",
    "```"
   ]
  },
  {
   "cell_type": "code",
   "execution_count": 4,
   "metadata": {},
   "outputs": [],
   "source": [
    "def Median(arr, axis=None):\n",
    "    if axis is None:\n",
    "        flat_arr = arr.flatten()\n",
    "        flat_arr.sort()\n",
    "        n = len(flat_arr)\n",
    "        if n % 2 == 1:\n",
    "            median = flat_arr[n // 2]\n",
    "        else:\n",
    "            median = (flat_arr[n // 2 - 1] + flat_arr[n // 2]) / 2\n",
    "        return median\n",
    "\n",
    "    if axis == 0:\n",
    "        # Calculate median along axis 0 (columns)\n",
    "        median_values = []\n",
    "        for i in range(arr.shape[1]):\n",
    "            column_values = np.sort(arr[:, i])\n",
    "            column_len = len(column_values)\n",
    "            if column_len % 2 == 0:\n",
    "                median_values.append((column_values[column_len // 2 - 1] + column_values[column_len // 2]) / 2)\n",
    "            else:\n",
    "                median_values.append(column_values[column_len // 2])\n",
    "        return np.array(median_values)\n",
    "\n",
    "    elif axis >= 1:\n",
    "        # Calculate median along axis 1 (rows)\n",
    "        return np.array([Median(sub_array, axis=axis - 1) for sub_array in arr])\n",
    "\n",
    "    else:\n",
    "        # Handle other axes\n",
    "        raise ValueError(\"The axis is out of range\")\n"
   ]
  },
  {
   "cell_type": "code",
   "execution_count": 5,
   "metadata": {},
   "outputs": [
    {
     "name": "stdout",
     "output_type": "stream",
     "text": [
      "5.0\n",
      "5.0\n",
      "----------------------------------------------------------------\n",
      "[[3. 3. 7. 5. 6.]\n",
      " [1. 2. 3. 7. 5.]\n",
      " [5. 6. 8. 7. 3.]\n",
      " [7. 5. 5. 2. 6.]]\n",
      "[[3 3 5 7 8]\n",
      " [0 0 1 2 3]\n",
      " [0 4 6 7 9]\n",
      " [0 1 2 4 6]]\n",
      "----------------------------------------------------------------\n",
      "[[4.  7.  6.5 4.5 3.5]\n",
      " [1.  2.5 4.  2.5 7. ]\n",
      " [5.  4.  6.  8.  5.5]]\n",
      "[[4.  7.  6.5 4.5 3.5]\n",
      " [1.  2.5 4.  2.5 7. ]\n",
      " [5.  4.  6.  8.  5.5]]\n"
     ]
    }
   ],
   "source": [
    "print(np.median(X))\n",
    "print(Median(X))\n",
    "print(\"----------------------------------------------------------------\")\n",
    "\n",
    "print(np.median(X, axis=0))\n",
    "print(Median(X, axis=0))\n",
    "print(\"----------------------------------------------------------------\")\n",
    "\n",
    "print(np.median(X, axis=1))\n",
    "print(Median(X, axis=1))"
   ]
  },
  {
   "cell_type": "markdown",
   "metadata": {},
   "source": [
    "# Max of the data set\n",
    "```\n",
    "BEGIN\n",
    "    IF axis = None:\n",
    "        arr = arr.flatten()\n",
    "        arr.sort()\n",
    "        RETURN arr[len(arr) - 1]\n",
    "    \n",
    "    IF axis = 0:\n",
    "        max_values = []\n",
    "        FOR i = 0 TO length(arr[0]):\n",
    "            column_values = Sort(arr[:, i])\n",
    "            max_values.append(Max(column_values))\n",
    "        RETURN max_values\n",
    "    \n",
    "    ELSE IF axis >= 1:\n",
    "        max_values = []\n",
    "        FOR EACH sub_array IN arr:\n",
    "            max_values.append(Max(sub_array, axis - 1))\n",
    "        RETURN max_values\n",
    "    \n",
    "    ELSE\n",
    "        Raise ValueError(\"The axis is out of range\")\n",
    "END\n",
    "```"
   ]
  },
  {
   "cell_type": "code",
   "execution_count": 97,
   "metadata": {},
   "outputs": [],
   "source": [
    "def Max(arr, axis=None):\n",
    "    if axis is None:\n",
    "        flat_arr = arr.flatten()\n",
    "        flat_arr.sort()\n",
    "        return flat_arr[len(flat_arr) - 1]\n",
    "\n",
    "    if axis == 0:\n",
    "        # Calculate max along axis 0 (columns)\n",
    "        max_values = []\n",
    "        for i in range(arr.shape[1]):\n",
    "            column_values = np.sort(arr[:, i])\n",
    "            max_values.append(Max(column_values))  # Append the minimum value of the column\n",
    "        return np.array(max_values)\n",
    "\n",
    "    elif axis >= 1:\n",
    "        # Calculate minimum along axis 1 (rows) or higher dimensions recursively\n",
    "        return np.array([Max(sub_array, axis=axis - 1) for sub_array in arr])\n",
    "\n",
    "    else:\n",
    "        # Handle other axes\n",
    "        raise ValueError(\"The axis is out of range\")\n"
   ]
  },
  {
   "cell_type": "code",
   "execution_count": 99,
   "metadata": {},
   "outputs": [
    {
     "name": "stdout",
     "output_type": "stream",
     "text": [
      "9\n",
      "9\n",
      "----------------------------------------------------------------\n",
      "[9 9 9 9]\n",
      "[[5 9 7 9 8]\n",
      " [3 5 7 9 7]\n",
      " [9 8 8 9 9]\n",
      " [9 6 5 3 8]]\n",
      "----------------------------------------------------------------\n",
      "[[9 9 8 9 7]\n",
      " [3 6 7 7 9]\n",
      " [9 5 8 9 8]]\n",
      "[[9 9 8 9 7]\n",
      " [3 6 7 7 9]\n",
      " [9 5 8 9 8]]\n"
     ]
    }
   ],
   "source": [
    "print(Max(X))\n",
    "print(np.max(X))\n",
    "print(\"----------------------------------------------------------------\")\n",
    "\n",
    "print(Max(X, axis=0))\n",
    "print(np.max(X, axis=0))\n",
    "print(\"----------------------------------------------------------------\")\n",
    "\n",
    "print(Max(X, axis=1))\n",
    "print(np.max(X, axis=1))\n"
   ]
  },
  {
   "cell_type": "markdown",
   "metadata": {},
   "source": [
    "# Min of the data set\n",
    "```\n",
    "BEGIN\n",
    "    IF axis = None:\n",
    "        arr = arr.flatten()\n",
    "        arr.sort()\n",
    "        RETURN arr[0]\n",
    "\n",
    "    IF axis = 0:\n",
    "        min_values = []\n",
    "        FOR i = 0 TO length(arr[0]):\n",
    "            column_values = Sort(arr[:, i])\n",
    "            min_values.append(Min(column_values))\n",
    "        RETURN min_values\n",
    "\n",
    "    ELSE IF axis >= 1:\n",
    "        min_values = []\n",
    "        FOR EACH sub_array IN arr:\n",
    "            min_values.append(Min(sub_array, axis - 1))\n",
    "        RETURN min_values\n",
    "\n",
    "    ELSE\n",
    "        Raise ValueError(\"The axis is out of range\")\n",
    "END\n",
    "```"
   ]
  },
  {
   "cell_type": "code",
   "execution_count": 96,
   "metadata": {},
   "outputs": [],
   "source": [
    "def Min(arr, axis=None):\n",
    "    if axis is None:\n",
    "        flat_arr = arr.flatten()\n",
    "        flat_arr.sort()\n",
    "        return flat_arr[0]\n",
    "\n",
    "    if axis == 0:\n",
    "        # Calculate minimum along axis 0 (columns)\n",
    "        min_values = []\n",
    "        for i in range(arr.shape[1]):\n",
    "            column_values = np.sort(arr[:, i])\n",
    "            min_values.append(Min(column_values))  # Append the minimum value of the column\n",
    "        return np.array(min_values)\n",
    "\n",
    "    elif axis >= 1:\n",
    "        # Calculate minimum along axis 1 (rows) or higher dimensions recursively\n",
    "        return np.array([Min(sub_array, axis=axis - 1) for sub_array in arr])\n",
    "\n",
    "    else:\n",
    "        # Handle other axes\n",
    "        raise ValueError(\"The axis is out of range\")\n"
   ]
  },
  {
   "cell_type": "code",
   "execution_count": 94,
   "metadata": {},
   "outputs": [
    {
     "name": "stdout",
     "output_type": "stream",
     "text": [
      "0\n",
      "0\n",
      "----------------------------------------------------------------\n",
      "[1 0 0 0]\n",
      "[[1 3 6 2 4]\n",
      " [0 2 3 0 0]\n",
      " [0 2 4 7 2]\n",
      " [1 2 4 0 0]]\n",
      "----------------------------------------------------------------\n",
      "[[0 2 5 2 0]\n",
      " [0 2 3 0 0]\n",
      " [3 2 3 3 2]]\n",
      "[[0 2 5 2 0]\n",
      " [0 2 3 0 0]\n",
      " [3 2 3 3 2]]\n"
     ]
    }
   ],
   "source": [
    "print(Min(X))\n",
    "print(np.min(X))\n",
    "print(\"----------------------------------------------------------------\")\n",
    "\n",
    "print(Min(X, axis=0))\n",
    "print(np.min(X, axis=0))\n",
    "print(\"----------------------------------------------------------------\")\n",
    "\n",
    "print(Min(X, axis=1))\n",
    "print(np.min(X, axis=1))"
   ]
  },
  {
   "cell_type": "markdown",
   "metadata": {},
   "source": [
    "# Range of the sample"
   ]
  },
  {
   "cell_type": "code",
   "execution_count": null,
   "metadata": {},
   "outputs": [],
   "source": [
    "def range(data, axis=None):\n",
    "    # If axis is None, compute the PTP of the flattened array\n",
    "    if axis is None:\n",
    "        data_flat = [value for sublist in data for value in sublist]\n",
    "        return max(data_flat) - min(data_flat)\n",
    "    \n",
    "    # If axis is specified, compute the PTP along the specified axis\n",
    "    if isinstance(axis, int):\n",
    "        axes = (axis,)\n",
    "    else:\n",
    "        axes = axis\n",
    "    \n",
    "    if any(ax < 0 for ax in axes):\n",
    "        axes = tuple(ax + len(data[0]) for ax in axes)\n",
    "    \n",
    "    if any(ax >= len(data[0]) for ax in axes):\n",
    "        raise ValueError(\"Axis value is out of range\")\n",
    "    \n",
    "    result = data\n",
    "    for ax in sorted(axes):\n",
    "        result = [row[ax] for row in result]\n",
    "    \n",
    "    min_val = min(result)\n",
    "    max_val = max(result)\n",
    "    \n",
    "    return max_val - min_val"
   ]
  },
  {
   "cell_type": "code",
   "execution_count": null,
   "metadata": {},
   "outputs": [],
   "source": [
    "# print(range(X))\n",
    "print(np.ptp(X))"
   ]
  },
  {
   "cell_type": "markdown",
   "metadata": {},
   "source": [
    "# Variance and the standard deviation of the sample"
   ]
  },
  {
   "cell_type": "markdown",
   "metadata": {},
   "source": [
    "Given the mean vector of the `X`, from that, we can calculate the variance of the sample by this formula:\n",
    "$$\n",
    "    S_{k}^2 = S_{kk} = \\frac{1}{n}\\sum_{j=1}^n(x_{jk} - \\overline{x_{k}})^2, k=1,2,...,p\n",
    "$$\n",
    "\n",
    "Where the standard deviation of the sample is the square root of the variance"
   ]
  },
  {
   "cell_type": "code",
   "execution_count": 105,
   "metadata": {},
   "outputs": [],
   "source": [
    "def Variance(data, axis=None):\n",
    "    # Calculate the mean along the specified axis with keepdims=True\n",
    "    mean_vector = Mean(data, axis=axis)\n",
    "\n",
    "    # Calculate the squared deviations\n",
    "    squared_deviations = (data - mean_vector) ** 2\n",
    "\n",
    "    # Calculate the variance along the specified axis\n",
    "    variance_vector = Mean(squared_deviations, axis=axis)\n",
    "\n",
    "    return variance_vector\n",
    "\n",
    "def Standard_deviation(data, axis=None):\n",
    "    return np.sqrt(Variance(data, axis=axis))"
   ]
  },
  {
   "cell_type": "markdown",
   "metadata": {},
   "source": [
    "The function first calculate the mean of the data set. The function then calculate the square of the deviation $(x_{jk} - \\overline{x_k})^2$ where $k=1,2,...,p$. The final result is the mean of the squared deviations."
   ]
  },
  {
   "cell_type": "code",
   "execution_count": 106,
   "metadata": {},
   "outputs": [
    {
     "name": "stdout",
     "output_type": "stream",
     "text": [
      "8.076666666666664\n",
      "8.076666666666664\n",
      "2.8419476889391655\n"
     ]
    }
   ],
   "source": [
    "print(np.var(X))\n",
    "print(Variance(X))\n",
    "\n",
    "print(Standard_deviation(X))"
   ]
  },
  {
   "cell_type": "markdown",
   "metadata": {},
   "source": [
    "# Covariance of the sample"
   ]
  },
  {
   "cell_type": "markdown",
   "metadata": {},
   "source": [
    "The provided code defines a Python function `covariance(data)` that calculates the covariance matrix of a given dataset.\n",
    "The covariance between two features $ X_i $ and $ X_k $ is calculated using the formula:\n",
    "\n",
    "$$ \n",
    "   \\text{cov}(X_i, X_k) = \\frac{1}{n} \\sum_{j=1}^{n} (X_{ij} - \\bar{X_i}) \\cdot (X_{kj} - \\bar{X_k}) \n",
    "$$\n",
    "\n",
    "Where:\n",
    "   - $ X_i $ and $ X_k $ are the values of feature `i` and feature `k` respectively.\n",
    "   - $ \\bar{X_i} $ and $ \\bar{X_k} $ are the mean values of feature `i` and feature `k` respectively.\n",
    "   - $ n $ is the number of observations."
   ]
  },
  {
   "cell_type": "code",
   "execution_count": 101,
   "metadata": {},
   "outputs": [],
   "source": [
    "def Covariance(data):\n",
    "    n = data.shape[0]\n",
    "    p = data.shape[1]\n",
    "    \n",
    "    # Compute means along each feature (column)\n",
    "    means = Mean(data, axis=0)\n",
    "\n",
    "    cov_matrix = np.zeros((p, p))\n",
    "    \n",
    "    # Compute covariance for each pair of features\n",
    "    for i in range(p):\n",
    "        for k in range(p):\n",
    "            diff_i = data[:, i] - means[i]\n",
    "            diff_k = data[:, k] - means[k]\n",
    "            cov_matrix[i, k] = np.sum(diff_i * diff_k) / n\n",
    "    \n",
    "    return cov_matrix"
   ]
  },
  {
   "cell_type": "code",
   "execution_count": 104,
   "metadata": {},
   "outputs": [
    {
     "name": "stdout",
     "output_type": "stream",
     "text": [
      "[[ 21.77777778  -2.33333333   4.          10.        ]\n",
      " [ -2.33333333  30.66666667 -10.           2.33333333]\n",
      " [  4.         -10.          33.77777778  12.44444444]\n",
      " [ 10.           2.33333333  12.44444444  27.77777778]]\n"
     ]
    }
   ],
   "source": [
    "print(Covariance(X))"
   ]
  }
 ],
 "metadata": {
  "kernelspec": {
   "display_name": "Python 3",
   "language": "python",
   "name": "python3"
  },
  "language_info": {
   "codemirror_mode": {
    "name": "ipython",
    "version": 3
   },
   "file_extension": ".py",
   "mimetype": "text/x-python",
   "name": "python",
   "nbconvert_exporter": "python",
   "pygments_lexer": "ipython3",
   "version": "3.11.8"
  }
 },
 "nbformat": 4,
 "nbformat_minor": 2
}
